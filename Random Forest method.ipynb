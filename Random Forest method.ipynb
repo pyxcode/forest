{
 "cells": [
  {
   "cell_type": "markdown",
   "id": "98a85f5a",
   "metadata": {},
   "source": [
    "DSB - Forest cover type"
   ]
  },
  {
   "cell_type": "code",
   "execution_count": 2,
   "id": "6808a727",
   "metadata": {},
   "outputs": [],
   "source": [
    "import numpy as np\n",
    "import pandas as pd"
   ]
  },
  {
   "cell_type": "code",
   "execution_count": null,
   "id": "2f5c8fca",
   "metadata": {},
   "outputs": [],
   "source": [
    "df = pd.read_csv(\"train.csv\")  # define the training dataset"
   ]
  },
  {
   "cell_type": "code",
   "execution_count": 4,
   "id": "e84eaba1",
   "metadata": {},
   "outputs": [
    {
     "name": "stdout",
     "output_type": "stream",
     "text": [
      "Cover_Type\n",
      "1    2160\n",
      "2    2160\n",
      "3    2160\n",
      "4    2160\n",
      "5    2160\n",
      "6    2160\n",
      "7    2160\n",
      "Name: count, dtype: int64\n",
      "Cover_Type\n",
      "1    14.285714\n",
      "2    14.285714\n",
      "3    14.285714\n",
      "4    14.285714\n",
      "5    14.285714\n",
      "6    14.285714\n",
      "7    14.285714\n",
      "Name: proportion, dtype: float64\n"
     ]
    }
   ],
   "source": [
    "# optional\n",
    "\n",
    "# Count how many rows belong to each forest cover type\n",
    "print(df['Cover_Type'].value_counts())\n",
    "\n",
    "# If you also want percentages:\n",
    "print(df['Cover_Type'].value_counts(normalize=True) * 100)"
   ]
  },
  {
   "cell_type": "code",
   "execution_count": 6,
   "id": "88fcafb4",
   "metadata": {},
   "outputs": [],
   "source": [
    "\n",
    "drop_cols = []  # columns to remove \n",
    "if 'Id' in df.columns: drop_cols.append('Id')  # the \"Id\" column will not be part of our model as it's useless\n",
    "\n",
    "X = df.drop(['Cover_Type'] + drop_cols, axis=1)  # X : the dataset without 'Id' and 'cover type' -> the inputs\n",
    "y = df['Cover_Type']  # Y : the 'Cover Type' columns (the target !)\n"
   ]
  },
  {
   "cell_type": "code",
   "execution_count": 7,
   "id": "53c9c079",
   "metadata": {},
   "outputs": [],
   "source": [
    "test = pd.read_csv(\"test-full.csv\")  # define the testing dataset\n",
    "\n",
    "X_test = test.drop(drop_cols, axis=1)  # remove the 'Id' column from the testing dataset"
   ]
  },
  {
   "cell_type": "code",
   "execution_count": 8,
   "id": "579713b8",
   "metadata": {},
   "outputs": [],
   "source": [
    "from sklearn.model_selection import train_test_split\n",
    "\n",
    "X_tr, X_val, y_tr, y_val = train_test_split(\n",
    "    X, y, test_size=0.2, random_state=42, stratify=y\n",
    ")\n"
   ]
  },
  {
   "cell_type": "code",
   "execution_count": 9,
   "id": "f9ab26be",
   "metadata": {},
   "outputs": [
    {
     "name": "stdout",
     "output_type": "stream",
     "text": [
      "Validation accuracy: 0.861441798941799\n",
      "OOB score (approx gen accuracy): 0.859209656084656\n"
     ]
    }
   ],
   "source": [
    "from sklearn.ensemble import RandomForestClassifier\n",
    "from sklearn.metrics import accuracy_score\n",
    "\n",
    "rf = RandomForestClassifier(\n",
    "    n_estimators=400,      # more trees -> stabler\n",
    "    max_depth=None,       # let trees grow; we’ll regularize with min_samples*\n",
    "    min_samples_split=2,\n",
    "    min_samples_leaf=1,\n",
    "    max_features=\"sqrt\",  # classic RF choice for classification\n",
    "    n_jobs=-1,            # use all CPU cores\n",
    "    random_state=42,\n",
    "    oob_score=True,       # enables OOB accuracy (uses bootstrap)\n",
    "    bootstrap=True\n",
    ")\n",
    "rf.fit(X_tr, y_tr)\n",
    "\n",
    "# Evaluate\n",
    "val_pred = rf.predict(X_val)\n",
    "print(\"Validation accuracy:\", accuracy_score(y_val, val_pred))\n",
    "print(\"OOB score (approx gen accuracy):\", getattr(rf, \"oob_score_\", None))\n"
   ]
  }
 ],
 "metadata": {
  "kernelspec": {
   "display_name": "base",
   "language": "python",
   "name": "python3"
  },
  "language_info": {
   "codemirror_mode": {
    "name": "ipython",
    "version": 3
   },
   "file_extension": ".py",
   "mimetype": "text/x-python",
   "name": "python",
   "nbconvert_exporter": "python",
   "pygments_lexer": "ipython3",
   "version": "3.13.5"
  }
 },
 "nbformat": 4,
 "nbformat_minor": 5
}
